{
 "cells": [
  {
   "cell_type": "markdown",
   "metadata": {},
   "source": [
    "# Word Embedings with Python"
   ]
  },
  {
   "cell_type": "markdown",
   "metadata": {},
   "source": [
    "## Import and read data"
   ]
  },
  {
   "cell_type": "code",
   "execution_count": 1,
   "metadata": {},
   "outputs": [],
   "source": [
    "import numpy as np\n",
    "import pandas as pd\n",
    "import nltk\n",
    "import random\n",
    "import string\n",
    "\n",
    "from nltk.corpus import movie_reviews\n",
    "\n",
    "#pip install gensim\n",
    "from gensim.models import Word2Vec"
   ]
  },
  {
   "cell_type": "markdown",
   "metadata": {},
   "source": [
    "## Building your own word embeddings"
   ]
  },
  {
   "cell_type": "markdown",
   "metadata": {},
   "source": [
    "We will beuild our own word emmeding vectors using the movie reviews corpus"
   ]
  },
  {
   "cell_type": "code",
   "execution_count": 49,
   "metadata": {},
   "outputs": [],
   "source": [
    "reviews=Word2Vec(movie_reviews.sents())"
   ]
  },
  {
   "cell_type": "code",
   "execution_count": 53,
   "metadata": {},
   "outputs": [
    {
     "data": {
      "text/plain": [
       "array([ 0.3044291 ,  1.3563073 ,  1.4341327 ,  0.5106546 ,  0.45326996,\n",
       "       -1.1894609 , -1.1736506 , -0.15797131,  1.6873941 ,  0.4727998 ,\n",
       "        0.6849874 ,  0.2838767 , -0.85250384, -0.16172382, -0.61334586,\n",
       "        0.27042425, -0.04839811, -0.7610126 ,  0.27716687, -0.5385549 ,\n",
       "       -0.23406938,  0.36426   ,  0.13361642,  0.86322165,  0.9348307 ,\n",
       "        0.6873782 , -0.26047787, -0.11499885, -0.49690384, -1.200749  ,\n",
       "        0.58701134,  1.7250276 , -0.3007238 ,  1.2203209 ,  1.1110538 ,\n",
       "       -0.75302905, -0.21539114, -0.67443305, -0.87896305,  0.02884883,\n",
       "        0.6194053 ,  0.87495726,  0.09969067, -1.0371474 ,  1.5309799 ,\n",
       "        0.77847165, -1.9152766 , -0.01347842, -0.44592848,  0.47410557,\n",
       "        0.40737104,  0.19855903, -0.16492549,  1.0574989 ,  0.1801466 ,\n",
       "       -0.23220196, -0.26286748,  0.16111696, -1.3379927 ,  0.19696537,\n",
       "        0.19984749,  0.5775624 , -0.06251012, -0.3204459 ,  0.53551114,\n",
       "       -0.7876662 , -0.56520927, -0.27591613, -0.07924719, -0.81236315,\n",
       "        1.1485124 , -0.778749  , -0.801539  , -0.32755843,  1.0276165 ,\n",
       "       -0.4837226 , -0.08404358,  0.8547914 , -0.8147479 ,  0.37111107,\n",
       "       -0.00855892, -0.35687843,  0.4723248 , -0.35785484, -0.53217995,\n",
       "       -0.4999058 ,  0.53531516,  0.17834459, -0.6154308 ,  1.1876515 ,\n",
       "        0.06895729, -1.0965154 , -0.34336728,  0.26577643, -0.27555528,\n",
       "       -0.14603092, -1.17339   ,  0.3718124 , -0.30312237,  0.5115968 ],\n",
       "      dtype=float32)"
      ]
     },
     "execution_count": 53,
     "metadata": {},
     "output_type": "execute_result"
    }
   ],
   "source": [
    "reviews.wv['great']"
   ]
  },
  {
   "cell_type": "code",
   "execution_count": 56,
   "metadata": {},
   "outputs": [
    {
     "data": {
      "text/plain": [
       "-0.0210345"
      ]
     },
     "execution_count": 56,
     "metadata": {},
     "output_type": "execute_result"
    }
   ],
   "source": [
    "reviews.wv.similarity('great','table')"
   ]
  },
  {
   "cell_type": "code",
   "execution_count": 57,
   "metadata": {},
   "outputs": [
    {
     "data": {
      "text/plain": [
       "[('nice', 0.8316164016723633),\n",
       " ('wonderful', 0.8294892907142639),\n",
       " ('decent', 0.8128911852836609),\n",
       " ('good', 0.7936766743659973),\n",
       " ('fine', 0.7583298683166504)]"
      ]
     },
     "execution_count": 57,
     "metadata": {},
     "output_type": "execute_result"
    }
   ],
   "source": [
    "reviews.wv.most_similar('great',topn=5)"
   ]
  },
  {
   "cell_type": "code",
   "execution_count": 58,
   "metadata": {},
   "outputs": [
    {
     "data": {
      "text/plain": [
       "[('father', 0.9633243680000305),\n",
       " ('wife', 0.960921585559845),\n",
       " ('son', 0.958370566368103),\n",
       " ('daughter', 0.952120304107666),\n",
       " ('sister', 0.933803141117096)]"
      ]
     },
     "execution_count": 58,
     "metadata": {},
     "output_type": "execute_result"
    }
   ],
   "source": [
    "reviews.wv.most_similar('mother',topn=5)"
   ]
  },
  {
   "cell_type": "code",
   "execution_count": 61,
   "metadata": {},
   "outputs": [],
   "source": [
    "reviews.wv.save_word2vec_format('model.txt', binary=False)"
   ]
  },
  {
   "cell_type": "markdown",
   "metadata": {},
   "source": [
    "## Loading Google's GoogleNews Embedding Vectors"
   ]
  },
  {
   "cell_type": "markdown",
   "metadata": {},
   "source": [
    "Download the binary file ‘GoogleNews-vectors-negative300.bin’ (1.5 GB compressed) from https://code.google.com/archive/p/word2vec/.\n"
   ]
  },
  {
   "cell_type": "code",
   "execution_count": 59,
   "metadata": {},
   "outputs": [],
   "source": [
    "from gensim.models import KeyedVectors"
   ]
  },
  {
   "cell_type": "code",
   "execution_count": 60,
   "metadata": {},
   "outputs": [],
   "source": [
    "gNews = KeyedVectors.load_word2vec_format('GoogleNews-vectors-negative300.bin', binary=True)"
   ]
  },
  {
   "cell_type": "code",
   "execution_count": 63,
   "metadata": {},
   "outputs": [
    {
     "data": {
      "text/plain": [
       "(300,)"
      ]
     },
     "execution_count": 63,
     "metadata": {},
     "output_type": "execute_result"
    }
   ],
   "source": [
    "gNews['great'].shape"
   ]
  },
  {
   "cell_type": "code",
   "execution_count": 64,
   "metadata": {},
   "outputs": [
    {
     "data": {
      "text/plain": [
       "[('terrific', 0.798933207988739),\n",
       " ('fantastic', 0.7935211658477783),\n",
       " ('tremendous', 0.7748855948448181),\n",
       " ('wonderful', 0.7647868394851685),\n",
       " ('good', 0.7291510105133057)]"
      ]
     },
     "execution_count": 64,
     "metadata": {},
     "output_type": "execute_result"
    }
   ],
   "source": [
    "gNews.most_similar('great',topn=5)"
   ]
  },
  {
   "cell_type": "code",
   "execution_count": 71,
   "metadata": {},
   "outputs": [
    {
     "data": {
      "text/plain": [
       "0.39287648"
      ]
     },
     "execution_count": 71,
     "metadata": {},
     "output_type": "execute_result"
    }
   ],
   "source": [
    "gNews.similarity('great','bad')"
   ]
  },
  {
   "cell_type": "code",
   "execution_count": 72,
   "metadata": {},
   "outputs": [
    {
     "data": {
      "text/plain": [
       "[('daughter', 0.8706234097480774),\n",
       " ('grandmother', 0.8442241549491882),\n",
       " ('aunt', 0.843592643737793),\n",
       " ('niece', 0.807008683681488),\n",
       " ('father', 0.7901483178138733)]"
      ]
     },
     "execution_count": 72,
     "metadata": {},
     "output_type": "execute_result"
    }
   ],
   "source": [
    "gNews.most_similar('mother',topn=5)"
   ]
  },
  {
   "cell_type": "code",
   "execution_count": 74,
   "metadata": {},
   "outputs": [
    {
     "data": {
      "text/plain": [
       "[('queen', 0.7118192911148071)]"
      ]
     },
     "execution_count": 74,
     "metadata": {},
     "output_type": "execute_result"
    }
   ],
   "source": [
    "# man:woman as king:???\n",
    "# queen = king - man + woman\n",
    "\n",
    "gNews.most_similar(positive = ['king','woman'] , negative = ['man'],topn=1)"
   ]
  },
  {
   "cell_type": "code",
   "execution_count": null,
   "metadata": {},
   "outputs": [],
   "source": []
  }
 ],
 "metadata": {
  "kernelspec": {
   "display_name": "Python 3",
   "language": "python",
   "name": "python3"
  },
  "language_info": {
   "codemirror_mode": {
    "name": "ipython",
    "version": 3
   },
   "file_extension": ".py",
   "mimetype": "text/x-python",
   "name": "python",
   "nbconvert_exporter": "python",
   "pygments_lexer": "ipython3",
   "version": "3.7.3"
  }
 },
 "nbformat": 4,
 "nbformat_minor": 1
}
